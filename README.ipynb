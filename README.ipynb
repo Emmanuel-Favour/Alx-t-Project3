{
 "cells": [
  {
   "cell_type": "markdown",
   "id": "53b08ea8",
   "metadata": {},
   "source": [
    "##  (Loan Data From Prosper)\n",
    "#### by (Emmanuel Favour)\n"
   ]
  },
  {
   "cell_type": "markdown",
   "id": "89e67d48",
   "metadata": {},
   "source": [
    "### Dataset\n",
    "* This data set contains 113,937 loans with 81 variables on each loan, including loan amount, borrower rate (or interest rate), current loan status, borrower income, and many others.\n",
    "\n",
    "[Clik here to see column information](https://docs.google.com/spreadsheets/d/1gDyi_L4UvIrLTEC6Wri5nbaMmkGmLQBk-Yx3z0XDEtI/edit#gid=0)\n",
    "[Clik here to download dataset](https://www.google.com/url?q=https://s3.amazonaws.com/udacity-hosted-downloads/ud651/prosperLoanData.csv&sa=D&ust=1581581520570000)"
   ]
  },
  {
   "cell_type": "markdown",
   "id": "b5a9b646",
   "metadata": {},
   "source": [
    "### Preliminary Wrangling"
   ]
  },
  {
   "cell_type": "markdown",
   "id": "0287fc1f",
   "metadata": {},
   "source": [
    "from the 81 columns provided in the dataset, i choosed the data set i would focus on into a dataframe and this columns  includes;\n",
    "\n",
    "* ListingKey: Unique key for each listing, same value as the 'key' used in the listing object in the API.\n",
    "* Term: The length of the loan expressed in months.\n",
    "* LoanStatus: The current status of the loan: Cancelled, Chargedoff, Completed, Current, Defaulted, FinalPaymentInProgress, PastDue. The PastDue status will be accompanied by a delinquency bucket.\n",
    "* BorrowerAPR: The Borrower's Annual Percentage Rate (APR) for the loan.\n",
    "* BorrowerRate: The Borrower's interest rate for this loan.\n",
    "* ProsperRating(Alpha): The Prosper Rating assigned at the time the listing was created between AA - HR. Applicable for loans originated after July 2009.\n",
    "\n",
    "* BorrowerState:The two letter abbreviation of the state of the address of the borrower at the time the Listing was created.\n",
    "* Occupation: The Occupation selected by the Borrower at the time they created the listing.\n",
    "* EmploymentStatus:The employment status of the borrower at the time they posted the listing.\n",
    "* IsBorrowerHomeowner: A Borrower will be classified as a homowner if they have a mortgage on their credit profile or provide documentation confirming they are a homeowner.\n",
    "* IncomeRange: The income range of the borrower at the time the listing was created.\n",
    "* LoanOriginalAmount: The origination amount of the loan.\n",
    "* LoanOriginationDate: The date the loan was originated.\n"
   ]
  },
  {
   "cell_type": "markdown",
   "id": "c8ca97ac",
   "metadata": {},
   "source": [
    "### Data Assessment\n",
    "Some of the data Quality/tidyness issues include;"
   ]
  },
  {
   "cell_type": "markdown",
   "id": "569a58c9",
   "metadata": {},
   "source": [
    "#### Quality\n",
    "\n",
    "##### `prosperLoanData` table\n",
    "\n",
    "- Duplicate data i.e there are 871 duplicated data in the  ListingKey column which is a unique key.\n",
    "\n",
    "- Some categorical ordinal data have missing data\n",
    "\n",
    "- Some columns have missing data."
   ]
  },
  {
   "cell_type": "markdown",
   "id": "50f94e77",
   "metadata": {},
   "source": [
    "#### Tidiness\n",
    "\n",
    "##### `prosperLoanData` table\n",
    "\n",
    "- Many columns are not needed for this particular analysis. i.e the needed columns are 'ListingKey', 'Term', 'LoanStatus', 'BorrowerState', 'Occupation', 'EmploymentStatus', 'ProsperRating' "
   ]
  },
  {
   "cell_type": "markdown",
   "id": "35041ecb",
   "metadata": {},
   "source": [
    "### Exploratory data Analysis Findings."
   ]
  },
  {
   "cell_type": "markdown",
   "id": "93fcfa4b",
   "metadata": {},
   "source": [
    "\n",
    "* A larger percentage of them are employed, a good number of them are full time employees while the rest of them are either non-partime retired or not employed.\n",
    "* Califonia CA seems to be leading the pack with more than 14000 borrowers.\n",
    "* 36 Terms is clearly the most occuring followed by 60 and the least is 30 Term.\n",
    "* Only 51.58% of the Borrowers are Home owners.\n",
    "* LoanOriginalAmount is a multimodal  distribution and starts from 1000, with its highest peak at about 17,500.\n",
    "* Current and Completed are the most dominant.  \n",
    "* 10.2% of the entire loan has been charged off as bad debt.\n",
    "* The distribution shows that BorrowerAPR from 2006 had 0.2% with a slight fall to 2007 and a gradual increase till 2011 which was the highest APR % rate about 0.25%. A steady fall occurred from 2012 to 2014.\n",
    "* There is a negative correlation between the borrowerAPR and LoanOriginalAmount the  the range of borrowerAPR decrease with the increase of LoanOriginalAmount.\n",
    "* Borrowers who are Retired & Not Employed, have taken loans of Lower Amounts when compared with other Employment categories.\n",
    "* longer term(60 months) had higher borrowerAPR. which means the longer the term the individual collect the loan the more likely the BorrowerAPR increases."
   ]
  },
  {
   "cell_type": "markdown",
   "id": "00eaf630",
   "metadata": {},
   "source": [
    "### Key insight for Presentation\n",
    "* individuals who are employed don't necessarily have lower BorrowerRate. But unemployment does have a higher median BorrowerRate and higher concentrate of frequency are above the median. Looking at the income range plot, there is a slight trend that the higher the income range is,the lower median BorrowerRate.\n",
    "* individuals who are employed don't necessarily have lower BorrowerRate. But unemployment does have a higher median BorrowerRate and higher concentrate of frequency are above the median. Looking at the income range plot, there is a slight trend that the higher the income range is,the lower median BorrowerRate."
   ]
  },
  {
   "cell_type": "code",
   "execution_count": null,
   "id": "56ccfe6c",
   "metadata": {},
   "outputs": [],
   "source": []
  }
 ],
 "metadata": {
  "kernelspec": {
   "display_name": "Python 3 (ipykernel)",
   "language": "python",
   "name": "python3"
  },
  "language_info": {
   "codemirror_mode": {
    "name": "ipython",
    "version": 3
   },
   "file_extension": ".py",
   "mimetype": "text/x-python",
   "name": "python",
   "nbconvert_exporter": "python",
   "pygments_lexer": "ipython3",
   "version": "3.9.7"
  }
 },
 "nbformat": 4,
 "nbformat_minor": 5
}
